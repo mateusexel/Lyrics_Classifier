{
 "cells": [
  {
   "cell_type": "markdown",
   "metadata": {},
   "source": [
    "# Create a pickle file for each artist \n",
    "## the file has 100 lyrics from the artist\n",
    "\n",
    "powered by BeautifulSoup, takelyrics opens the url's html and searches for every music link. \n",
    "after it has all the links it makes a requests for these links, gets the html, finds the body text and saves it as a dictionary with song name, url and lyric. after these process is done for the first hundred songs it saves these list of dictionaries as a pickle file."
   ]
  },
  {
   "cell_type": "code",
   "execution_count": 1,
   "metadata": {},
   "outputs": [],
   "source": [
    "from func_spacy_actor import takelyrics\n",
    "import pickle"
   ]
  },
  {
   "cell_type": "code",
   "execution_count": 2,
   "metadata": {},
   "outputs": [],
   "source": [
    "artists = [\n",
    "{'name':'aero_disco', 'url': 'https://www.lyrics.com/artist/Aerosmith/3508'},\n",
    "{'name':'beatles_disco', 'url': 'https://www.lyrics.com/artist/The+Beatles/3644'},\n",
    "{'name':'blacksabb_disco', 'url': 'https://www.lyrics.com/artist/Black+Sabbath/3693'},\n",
    "{'name':'cash_disco', 'url': 'https://www.lyrics.com/artist/Johnny+Cash/1548'},\n",
    "{'name':'elvis_disco', 'url': 'https://www.lyrics.com/artist/Elvis+Presley/5175'},\n",
    "{'name':'frank_disco', 'url': 'https://www.lyrics.com/artist/Frank+Zappa/74796'},\n",
    "{'name':'led_disco', 'url': 'https://www.lyrics.com/artist/Led+Zeppelin/4739'},\n",
    "{'name':'pink_disco', 'url': 'https://www.lyrics.com/artist/Pink+Floyd/76669'},\n",
    "{'name':'rolling_disco', 'url': 'https://www.lyrics.com/artist/The+Rolling+Stones/5298'},\n",
    "{'name':'who_disco', 'url': 'https://www.lyrics.com/artist/The+Who/5822'},                                       \n",
    "]"
   ]
  },
  {
   "cell_type": "code",
   "execution_count": 3,
   "metadata": {},
   "outputs": [
    {
     "name": "stdout",
     "output_type": "stream",
     "text": [
      "aero_disco\n",
      "beatles_disco\n",
      "blacksabb_disco\n",
      "cash_disco\n",
      "elvis_disco\n",
      "frank_disco\n",
      "led_disco\n",
      "pink_disco\n",
      "rolling_disco\n",
      "who_disco\n"
     ]
    }
   ],
   "source": [
    "for artist in artists:\n",
    "    lyrics = takelyrics(artist['url'])\n",
    "    fileObject = open('picklefiles/'artist['name']+'.p', 'wb')\n",
    "    pickle.dump(lyrics, fileObject)\n",
    "    fileObject.close()"
   ]
  }
 ],
 "metadata": {
  "kernelspec": {
   "display_name": "Python 3",
   "language": "python",
   "name": "python3"
  },
  "language_info": {
   "codemirror_mode": {
    "name": "ipython",
    "version": 3
   },
   "file_extension": ".py",
   "mimetype": "text/x-python",
   "name": "python",
   "nbconvert_exporter": "python",
   "pygments_lexer": "ipython3",
   "version": "3.6.8"
  }
 },
 "nbformat": 4,
 "nbformat_minor": 2
}
